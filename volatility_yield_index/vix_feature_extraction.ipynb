{
 "cells": [
  {
   "cell_type": "code",
   "execution_count": 10,
   "metadata": {},
   "outputs": [],
   "source": [
    "import numpy as np\n",
    "import pandas as pd\n",
    "import matplotlib.pyplot as plt"
   ]
  },
  {
   "cell_type": "code",
   "execution_count": 11,
   "metadata": {},
   "outputs": [],
   "source": [
    "df = pd.read_csv('static/VIX.csv')"
   ]
  },
  {
   "cell_type": "code",
   "execution_count": 12,
   "metadata": {},
   "outputs": [
    {
     "data": {
      "text/html": [
       "<div>\n",
       "<style scoped>\n",
       "    .dataframe tbody tr th:only-of-type {\n",
       "        vertical-align: middle;\n",
       "    }\n",
       "\n",
       "    .dataframe tbody tr th {\n",
       "        vertical-align: top;\n",
       "    }\n",
       "\n",
       "    .dataframe thead th {\n",
       "        text-align: right;\n",
       "    }\n",
       "</style>\n",
       "<table border=\"1\" class=\"dataframe\">\n",
       "  <thead>\n",
       "    <tr style=\"text-align: right;\">\n",
       "      <th></th>\n",
       "      <th>date</th>\n",
       "      <th>vix_open</th>\n",
       "      <th>vix_high</th>\n",
       "      <th>vix_low</th>\n",
       "      <th>vix_close</th>\n",
       "    </tr>\n",
       "  </thead>\n",
       "  <tbody>\n",
       "    <tr>\n",
       "      <th>0</th>\n",
       "      <td>01/02/1997</td>\n",
       "      <td>21.54</td>\n",
       "      <td>22.80</td>\n",
       "      <td>21.10</td>\n",
       "      <td>21.14</td>\n",
       "    </tr>\n",
       "    <tr>\n",
       "      <th>1</th>\n",
       "      <td>01/03/1997</td>\n",
       "      <td>19.82</td>\n",
       "      <td>19.92</td>\n",
       "      <td>19.04</td>\n",
       "      <td>19.13</td>\n",
       "    </tr>\n",
       "    <tr>\n",
       "      <th>2</th>\n",
       "      <td>01/06/1997</td>\n",
       "      <td>19.84</td>\n",
       "      <td>20.44</td>\n",
       "      <td>19.42</td>\n",
       "      <td>19.89</td>\n",
       "    </tr>\n",
       "    <tr>\n",
       "      <th>3</th>\n",
       "      <td>01/07/1997</td>\n",
       "      <td>20.46</td>\n",
       "      <td>20.71</td>\n",
       "      <td>19.31</td>\n",
       "      <td>19.35</td>\n",
       "    </tr>\n",
       "    <tr>\n",
       "      <th>4</th>\n",
       "      <td>01/08/1997</td>\n",
       "      <td>18.60</td>\n",
       "      <td>20.53</td>\n",
       "      <td>18.60</td>\n",
       "      <td>20.24</td>\n",
       "    </tr>\n",
       "  </tbody>\n",
       "</table>\n",
       "</div>"
      ],
      "text/plain": [
       "         date  vix_open  vix_high  vix_low  vix_close\n",
       "0  01/02/1997     21.54     22.80    21.10      21.14\n",
       "1  01/03/1997     19.82     19.92    19.04      19.13\n",
       "2  01/06/1997     19.84     20.44    19.42      19.89\n",
       "3  01/07/1997     20.46     20.71    19.31      19.35\n",
       "4  01/08/1997     18.60     20.53    18.60      20.24"
      ]
     },
     "execution_count": 12,
     "metadata": {},
     "output_type": "execute_result"
    }
   ],
   "source": [
    "df.head()"
   ]
  },
  {
   "cell_type": "code",
   "execution_count": 13,
   "metadata": {},
   "outputs": [],
   "source": [
    "slope = pd.DataFrame({'date': df.date, 'vix_slope':np.gradient(df.vix_close)})"
   ]
  },
  {
   "cell_type": "code",
   "execution_count": 14,
   "metadata": {},
   "outputs": [
    {
     "data": {
      "text/html": [
       "<div>\n",
       "<style scoped>\n",
       "    .dataframe tbody tr th:only-of-type {\n",
       "        vertical-align: middle;\n",
       "    }\n",
       "\n",
       "    .dataframe tbody tr th {\n",
       "        vertical-align: top;\n",
       "    }\n",
       "\n",
       "    .dataframe thead th {\n",
       "        text-align: right;\n",
       "    }\n",
       "</style>\n",
       "<table border=\"1\" class=\"dataframe\">\n",
       "  <thead>\n",
       "    <tr style=\"text-align: right;\">\n",
       "      <th></th>\n",
       "      <th>vix_slope</th>\n",
       "    </tr>\n",
       "    <tr>\n",
       "      <th>date</th>\n",
       "      <th></th>\n",
       "    </tr>\n",
       "  </thead>\n",
       "  <tbody>\n",
       "    <tr>\n",
       "      <th>01/02/1997</th>\n",
       "      <td>-2.010</td>\n",
       "    </tr>\n",
       "    <tr>\n",
       "      <th>01/03/1997</th>\n",
       "      <td>-0.625</td>\n",
       "    </tr>\n",
       "    <tr>\n",
       "      <th>01/06/1997</th>\n",
       "      <td>0.110</td>\n",
       "    </tr>\n",
       "    <tr>\n",
       "      <th>01/07/1997</th>\n",
       "      <td>0.175</td>\n",
       "    </tr>\n",
       "    <tr>\n",
       "      <th>01/08/1997</th>\n",
       "      <td>0.780</td>\n",
       "    </tr>\n",
       "  </tbody>\n",
       "</table>\n",
       "</div>"
      ],
      "text/plain": [
       "            vix_slope\n",
       "date                 \n",
       "01/02/1997     -2.010\n",
       "01/03/1997     -0.625\n",
       "01/06/1997      0.110\n",
       "01/07/1997      0.175\n",
       "01/08/1997      0.780"
      ]
     },
     "execution_count": 14,
     "metadata": {},
     "output_type": "execute_result"
    }
   ],
   "source": [
    "slope.set_index('date').head()"
   ]
  },
  {
   "cell_type": "code",
   "execution_count": 15,
   "metadata": {},
   "outputs": [
    {
     "data": {
      "text/plain": [
       "<matplotlib.axes._subplots.AxesSubplot at 0x11625cfd0>"
      ]
     },
     "execution_count": 15,
     "metadata": {},
     "output_type": "execute_result"
    },
    {
     "data": {
      "image/png": "[encoded data removed]",
      "text/plain": [
       "<Figure size 1440x360 with 1 Axes>"
      ]
     },
     "metadata": {
      "needs_background": "light"
     },
     "output_type": "display_data"
    }
   ],
   "source": [
    "slope.plot(figsize=(20,5))"
   ]
  },
  {
   "cell_type": "code",
   "execution_count": 16,
   "metadata": {},
   "outputs": [],
   "source": [
    "df.insert(5, 'vix_slope', slope['vix_slope'])"
   ]
  },
  {
   "cell_type": "code",
   "execution_count": 21,
   "metadata": {},
   "outputs": [
    {
     "data": {
      "text/html": [
       "<div>\n",
       "<style scoped>\n",
       "    .dataframe tbody tr th:only-of-type {\n",
       "        vertical-align: middle;\n",
       "    }\n",
       "\n",
       "    .dataframe tbody tr th {\n",
       "        vertical-align: top;\n",
       "    }\n",
       "\n",
       "    .dataframe thead th {\n",
       "        text-align: right;\n",
       "    }\n",
       "</style>\n",
       "<table border=\"1\" class=\"dataframe\">\n",
       "  <thead>\n",
       "    <tr style=\"text-align: right;\">\n",
       "      <th></th>\n",
       "      <th>date</th>\n",
       "      <th>vix_open</th>\n",
       "      <th>vix_high</th>\n",
       "      <th>vix_low</th>\n",
       "      <th>vix_close</th>\n",
       "      <th>vix_slope</th>\n",
       "    </tr>\n",
       "  </thead>\n",
       "  <tbody>\n",
       "    <tr>\n",
       "      <th>0</th>\n",
       "      <td>01/02/1997</td>\n",
       "      <td>21.54</td>\n",
       "      <td>22.80</td>\n",
       "      <td>21.10</td>\n",
       "      <td>21.14</td>\n",
       "      <td>-2.010</td>\n",
       "    </tr>\n",
       "    <tr>\n",
       "      <th>1</th>\n",
       "      <td>01/03/1997</td>\n",
       "      <td>19.82</td>\n",
       "      <td>19.92</td>\n",
       "      <td>19.04</td>\n",
       "      <td>19.13</td>\n",
       "      <td>-0.625</td>\n",
       "    </tr>\n",
       "    <tr>\n",
       "      <th>2</th>\n",
       "      <td>01/06/1997</td>\n",
       "      <td>19.84</td>\n",
       "      <td>20.44</td>\n",
       "      <td>19.42</td>\n",
       "      <td>19.89</td>\n",
       "      <td>0.110</td>\n",
       "    </tr>\n",
       "    <tr>\n",
       "      <th>3</th>\n",
       "      <td>01/07/1997</td>\n",
       "      <td>20.46</td>\n",
       "      <td>20.71</td>\n",
       "      <td>19.31</td>\n",
       "      <td>19.35</td>\n",
       "      <td>0.175</td>\n",
       "    </tr>\n",
       "    <tr>\n",
       "      <th>4</th>\n",
       "      <td>01/08/1997</td>\n",
       "      <td>18.60</td>\n",
       "      <td>20.53</td>\n",
       "      <td>18.60</td>\n",
       "      <td>20.24</td>\n",
       "      <td>0.780</td>\n",
       "    </tr>\n",
       "  </tbody>\n",
       "</table>\n",
       "</div>"
      ],
      "text/plain": [
       "         date  vix_open  vix_high  vix_low  vix_close  vix_slope\n",
       "0  01/02/1997     21.54     22.80    21.10      21.14     -2.010\n",
       "1  01/03/1997     19.82     19.92    19.04      19.13     -0.625\n",
       "2  01/06/1997     19.84     20.44    19.42      19.89      0.110\n",
       "3  01/07/1997     20.46     20.71    19.31      19.35      0.175\n",
       "4  01/08/1997     18.60     20.53    18.60      20.24      0.780"
      ]
     },
     "execution_count": 21,
     "metadata": {},
     "output_type": "execute_result"
    }
   ],
   "source": [
    "df.head()"
   ]
  },
  {
   "cell_type": "code",
   "execution_count": 35,
   "metadata": {},
   "outputs": [],
   "source": [
    "df[['date','vix_slope']].copy().to_csv('static/VIX_SLOPE.csv', index=False)"
   ]
  },
  {
   "cell_type": "code",
   "execution_count": null,
   "metadata": {},
   "outputs": [],
   "source": []
  }
 ],
 "metadata": {
  "interpreter": {
   "hash": "341692137ecfd2b8ce799605e07ee4a8c2c0d6f5d8655a62bf33f39a80bb3925"
  },
  "kernelspec": {
   "display_name": "Python 3.9.9 64-bit ('virtual-env': venv)",
   "name": "python3"
  },
  "language_info": {
   "codemirror_mode": {
    "name": "ipython",
    "version": 3
   },
   "file_extension": ".py",
   "mimetype": "text/x-python",
   "name": "python",
   "nbconvert_exporter": "python",
   "pygments_lexer": "ipython3",
   "version": "3.9.9"
  },
  "orig_nbformat": 4
 },
 "nbformat": 4,
 "nbformat_minor": 2
}
